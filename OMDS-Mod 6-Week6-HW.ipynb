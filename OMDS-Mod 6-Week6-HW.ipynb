{
 "cells": [
  {
   "cell_type": "markdown",
   "id": "8b274201",
   "metadata": {},
   "source": [
    "# Nearest-Neighbor Matching — Homework 6.1\n",
    "\n",
    "This notebook computes ATE, ATT, ATU, and the **Optimal Treatment Effect** using 1-Nearest Neighbor matching on the confounder **Z** from `homework_6.1.csv`.\n",
    "\n",
    "**Columns:**\n",
    "- `Z`: confounder used for matching\n",
    "- `X`: treatment indicator (1 = treated, 0 = untreated)\n",
    "- `Y`: outcome\n",
    "\n",
    "## Steps\n",
    "1. Load data\n",
    "2. Split treated vs untreated\n",
    "3. Fit 1-NN on `Z` to find counterfactual matches\n",
    "4. Compute ATE, ATT, ATU, and Optimal TE\n"
   ]
  },
  {
   "cell_type": "code",
   "execution_count": 3,
   "id": "7b61d4f7",
   "metadata": {},
   "outputs": [],
   "source": [
    "\n",
    "import pandas as pd\n",
    "import numpy as np\n",
    "from sklearn.neighbors import NearestNeighbors\n",
    "\n",
    "pd.set_option(\"display.float_format\", lambda x: f\"{x:0.6f}\")\n"
   ]
  },
  {
   "cell_type": "markdown",
   "id": "e6ddd06e",
   "metadata": {},
   "source": [
    "## 1) Load dataset"
   ]
  },
  {
   "cell_type": "code",
   "execution_count": 4,
   "id": "4f304907",
   "metadata": {},
   "outputs": [
    {
     "data": {
      "text/html": [
       "<div>\n",
       "<style scoped>\n",
       "    .dataframe tbody tr th:only-of-type {\n",
       "        vertical-align: middle;\n",
       "    }\n",
       "\n",
       "    .dataframe tbody tr th {\n",
       "        vertical-align: top;\n",
       "    }\n",
       "\n",
       "    .dataframe thead th {\n",
       "        text-align: right;\n",
       "    }\n",
       "</style>\n",
       "<table border=\"1\" class=\"dataframe\">\n",
       "  <thead>\n",
       "    <tr style=\"text-align: right;\">\n",
       "      <th></th>\n",
       "      <th>Z</th>\n",
       "      <th>X</th>\n",
       "      <th>Y</th>\n",
       "    </tr>\n",
       "  </thead>\n",
       "  <tbody>\n",
       "    <tr>\n",
       "      <th>0</th>\n",
       "      <td>0.548814</td>\n",
       "      <td>0</td>\n",
       "      <td>-0.823220</td>\n",
       "    </tr>\n",
       "    <tr>\n",
       "      <th>1</th>\n",
       "      <td>0.715189</td>\n",
       "      <td>1</td>\n",
       "      <td>0.842405</td>\n",
       "    </tr>\n",
       "    <tr>\n",
       "      <th>2</th>\n",
       "      <td>0.602763</td>\n",
       "      <td>1</td>\n",
       "      <td>0.898618</td>\n",
       "    </tr>\n",
       "    <tr>\n",
       "      <th>3</th>\n",
       "      <td>0.544883</td>\n",
       "      <td>0</td>\n",
       "      <td>-0.817325</td>\n",
       "    </tr>\n",
       "    <tr>\n",
       "      <th>4</th>\n",
       "      <td>0.423655</td>\n",
       "      <td>0</td>\n",
       "      <td>-0.635482</td>\n",
       "    </tr>\n",
       "  </tbody>\n",
       "</table>\n",
       "</div>"
      ],
      "text/plain": [
       "         Z  X         Y\n",
       "0 0.548814  0 -0.823220\n",
       "1 0.715189  1  0.842405\n",
       "2 0.602763  1  0.898618\n",
       "3 0.544883  0 -0.817325\n",
       "4 0.423655  0 -0.635482"
      ]
     },
     "execution_count": 4,
     "metadata": {},
     "output_type": "execute_result"
    }
   ],
   "source": [
    "\n",
    "csv_path = \"homework_6.1.csv\"\n",
    "df = pd.read_csv(csv_path)\n",
    "df.head()\n"
   ]
  },
  {
   "cell_type": "markdown",
   "id": "c446d85e",
   "metadata": {},
   "source": [
    "## 2) Basic checks"
   ]
  },
  {
   "cell_type": "code",
   "execution_count": 5,
   "id": "507bb5c9",
   "metadata": {},
   "outputs": [
    {
     "name": "stdout",
     "output_type": "stream",
     "text": [
      "<class 'pandas.core.frame.DataFrame'>\n",
      "RangeIndex: 1000 entries, 0 to 999\n",
      "Data columns (total 3 columns):\n",
      " #   Column  Non-Null Count  Dtype  \n",
      "---  ------  --------------  -----  \n",
      " 0   Z       1000 non-null   float64\n",
      " 1   X       1000 non-null   int64  \n",
      " 2   Y       1000 non-null   float64\n",
      "dtypes: float64(2), int64(1)\n",
      "memory usage: 23.6 KB\n"
     ]
    },
    {
     "data": {
      "text/html": [
       "<div>\n",
       "<style scoped>\n",
       "    .dataframe tbody tr th:only-of-type {\n",
       "        vertical-align: middle;\n",
       "    }\n",
       "\n",
       "    .dataframe tbody tr th {\n",
       "        vertical-align: top;\n",
       "    }\n",
       "\n",
       "    .dataframe thead th {\n",
       "        text-align: right;\n",
       "    }\n",
       "</style>\n",
       "<table border=\"1\" class=\"dataframe\">\n",
       "  <thead>\n",
       "    <tr style=\"text-align: right;\">\n",
       "      <th></th>\n",
       "      <th>Z</th>\n",
       "      <th>X</th>\n",
       "      <th>Y</th>\n",
       "    </tr>\n",
       "  </thead>\n",
       "  <tbody>\n",
       "    <tr>\n",
       "      <th>count</th>\n",
       "      <td>1000.000000</td>\n",
       "      <td>1000.000000</td>\n",
       "      <td>1000.000000</td>\n",
       "    </tr>\n",
       "    <tr>\n",
       "      <th>mean</th>\n",
       "      <td>0.495922</td>\n",
       "      <td>0.491000</td>\n",
       "      <td>0.163240</td>\n",
       "    </tr>\n",
       "    <tr>\n",
       "      <th>std</th>\n",
       "      <td>0.290744</td>\n",
       "      <td>0.500169</td>\n",
       "      <td>0.754302</td>\n",
       "    </tr>\n",
       "    <tr>\n",
       "      <th>min</th>\n",
       "      <td>0.000546</td>\n",
       "      <td>0.000000</td>\n",
       "      <td>-1.459379</td>\n",
       "    </tr>\n",
       "    <tr>\n",
       "      <th>25%</th>\n",
       "      <td>0.247613</td>\n",
       "      <td>0.000000</td>\n",
       "      <td>-0.457581</td>\n",
       "    </tr>\n",
       "    <tr>\n",
       "      <th>50%</th>\n",
       "      <td>0.481323</td>\n",
       "      <td>0.000000</td>\n",
       "      <td>-0.017813</td>\n",
       "    </tr>\n",
       "    <tr>\n",
       "      <th>75%</th>\n",
       "      <td>0.737260</td>\n",
       "      <td>1.000000</td>\n",
       "      <td>0.855020</td>\n",
       "    </tr>\n",
       "    <tr>\n",
       "      <th>max</th>\n",
       "      <td>0.999809</td>\n",
       "      <td>1.000000</td>\n",
       "      <td>1.190403</td>\n",
       "    </tr>\n",
       "  </tbody>\n",
       "</table>\n",
       "</div>"
      ],
      "text/plain": [
       "                Z           X           Y\n",
       "count 1000.000000 1000.000000 1000.000000\n",
       "mean     0.495922    0.491000    0.163240\n",
       "std      0.290744    0.500169    0.754302\n",
       "min      0.000546    0.000000   -1.459379\n",
       "25%      0.247613    0.000000   -0.457581\n",
       "50%      0.481323    0.000000   -0.017813\n",
       "75%      0.737260    1.000000    0.855020\n",
       "max      0.999809    1.000000    1.190403"
      ]
     },
     "execution_count": 5,
     "metadata": {},
     "output_type": "execute_result"
    }
   ],
   "source": [
    "\n",
    "df.info()\n",
    "df.describe()\n"
   ]
  },
  {
   "cell_type": "markdown",
   "id": "cb48b515",
   "metadata": {},
   "source": [
    "## 3) Split groups and fit 1-NN on Z"
   ]
  },
  {
   "cell_type": "code",
   "execution_count": 6,
   "id": "e0a5c0a9",
   "metadata": {},
   "outputs": [],
   "source": [
    "\n",
    "treated = df[df[\"X\"] == 1].reset_index(drop=True)\n",
    "untreated = df[df[\"X\"] == 0].reset_index(drop=True)\n",
    "\n",
    "# Fit nearest neighbors using only confounder Z\n",
    "nn_treated = NearestNeighbors(n_neighbors=1).fit(untreated[[\"Z\"]])\n",
    "nn_untreated = NearestNeighbors(n_neighbors=1).fit(treated[[\"Z\"]])\n",
    "\n",
    "# Index of nearest match for each item\n",
    "treated_to_untreated_idx = nn_treated.kneighbors(treated[[\"Z\"]], return_distance=False).flatten()\n",
    "untreated_to_treated_idx = nn_untreated.kneighbors(untreated[[\"Z\"]], return_distance=False).flatten()\n",
    "\n",
    "# Counterfactual outcomes (Y) from the matched item in the other group\n",
    "treated_cf = untreated.iloc[treated_to_untreated_idx][\"Y\"].values\n",
    "untreated_cf = treated.iloc[untreated_to_treated_idx][\"Y\"].values\n"
   ]
  },
  {
   "cell_type": "markdown",
   "id": "b40200fb",
   "metadata": {},
   "source": [
    "## 4) Compute effects"
   ]
  },
  {
   "cell_type": "code",
   "execution_count": 7,
   "id": "98dd077e",
   "metadata": {},
   "outputs": [
    {
     "data": {
      "text/plain": [
       "{'ATE': np.float64(1.6952701427497885),\n",
       " 'ATT': np.float64(1.8464085071912946),\n",
       " 'ATU': np.float64(1.5494765534751722),\n",
       " 'Optimal TE (max over untreated)': np.float64(2.172469885577008)}"
      ]
     },
     "execution_count": 7,
     "metadata": {},
     "output_type": "execute_result"
    }
   ],
   "source": [
    "\n",
    "# Effects per-item\n",
    "te_treated = treated[\"Y\"].values - treated_cf            # effect for treated items\n",
    "te_untreated = untreated_cf - untreated[\"Y\"].values      # effect for untreated items\n",
    "\n",
    "# Aggregates\n",
    "ate = np.mean(np.concatenate([te_treated, te_untreated]))\n",
    "att = np.mean(te_treated)\n",
    "atu = np.mean(te_untreated)\n",
    "optimal_te = np.max(te_untreated)  # maximum effect among untreated items\n",
    "\n",
    "results = {\n",
    "    \"ATE\": ate,\n",
    "    \"ATT\": att,\n",
    "    \"ATU\": atu,\n",
    "    \"Optimal TE (max over untreated)\": optimal_te\n",
    "}\n",
    "results\n"
   ]
  },
  {
   "cell_type": "markdown",
   "id": "b02b0690",
   "metadata": {},
   "source": [
    "## 5) Pretty print results"
   ]
  },
  {
   "cell_type": "code",
   "execution_count": 8,
   "id": "6bfc4895",
   "metadata": {},
   "outputs": [
    {
     "name": "stdout",
     "output_type": "stream",
     "text": [
      "ATE: 1.695270\n",
      "ATT: 1.846409\n",
      "ATU: 1.549477\n",
      "Optimal TE (max over untreated): 2.172470\n"
     ]
    }
   ],
   "source": [
    "\n",
    "for k, v in results.items():\n",
    "    print(f\"{k}: {v:0.6f}\")\n"
   ]
  },
  {
   "cell_type": "markdown",
   "id": "c3471c91",
   "metadata": {},
   "source": [
    "## 6) (Optional) Visualization"
   ]
  },
  {
   "cell_type": "code",
   "execution_count": 9,
   "id": "a2f2c9ad",
   "metadata": {},
   "outputs": [
    {
     "data": {
      "image/png": "[encoded data removed]",
      "text/plain": [
       "<Figure size 640x480 with 1 Axes>"
      ]
     },
     "metadata": {},
     "output_type": "display_data"
    }
   ],
   "source": [
    "\n",
    "import matplotlib.pyplot as plt\n",
    "\n",
    "plt.figure()\n",
    "plt.scatter(df.loc[df.X==0, \"Z\"], df.loc[df.X==0, \"Y\"], label=\"Untreated (X=0)\", alpha=0.6)\n",
    "plt.scatter(df.loc[df.X==1, \"Z\"], df.loc[df.X==1, \"Y\"], label=\"Treated (X=1)\", alpha=0.6)\n",
    "plt.xlabel(\"Z (confounder)\")\n",
    "plt.ylabel(\"Y (outcome)\")\n",
    "plt.title(\"Outcome vs Confounder by Treatment Group\")\n",
    "plt.legend()\n",
    "plt.tight_layout()\n",
    "plt.show()\n"
   ]
  }
 ],
 "metadata": {
  "kernelspec": {
   "display_name": "Python 3",
   "language": "python",
   "name": "python3"
  },
  "language_info": {
   "codemirror_mode": {
    "name": "ipython",
    "version": 3
   },
   "file_extension": ".py",
   "mimetype": "text/x-python",
   "name": "python",
   "nbconvert_exporter": "python",
   "pygments_lexer": "ipython3",
   "version": "3.12.1"
  }
 },
 "nbformat": 4,
 "nbformat_minor": 5
}
