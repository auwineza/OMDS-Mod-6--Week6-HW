{
 "cells": [
  {
   "cell_type": "markdown",
   "id": "8b274201",
   "metadata": {},
   "source": [
    "# Nearest-Neighbor Matching — Homework 6.1\n",
    "\n",
    "This notebook computes ATE, ATT, ATU, and the **Optimal Treatment Effect** using 1-Nearest Neighbor matching on the confounder **Z** from `homework_6.1.csv`.\n",
    "\n",
    "**Columns:**\n",
    "- `Z`: confounder used for matching\n",
    "- `X`: treatment indicator (1 = treated, 0 = untreated)\n",
    "- `Y`: outcome\n",
    "\n",
    "## Steps\n",
    "1. Load data\n",
    "2. Split treated vs untreated\n",
    "3. Fit 1-NN on `Z` to find counterfactual matches\n",
    "4. Compute ATE, ATT, ATU, and Optimal TE\n"
   ]
  },
  {
   "cell_type": "code",
   "execution_count": null,
   "id": "7b61d4f7",
   "metadata": {},
   "outputs": [],
   "source": [
    "\n",
    "import pandas as pd\n",
    "import numpy as np\n",
    "from sklearn.neighbors import NearestNeighbors\n",
    "\n",
    "# Display options\n",
    "pd.set_option(\"display.float_format\", lambda x: f\"{x:0.6f}\")\n"
   ]
  },
  {
   "cell_type": "markdown",
   "id": "e6ddd06e",
   "metadata": {},
   "source": [
    "## 1) Load dataset"
   ]
  },
  {
   "cell_type": "code",
   "execution_count": null,
   "id": "4f304907",
   "metadata": {},
   "outputs": [],
   "source": [
    "\n",
    "# Update path if needed\n",
    "csv_path = \"homework_6.1.csv\"\n",
    "df = pd.read_csv(csv_path)\n",
    "df.head()\n"
   ]
  },
  {
   "cell_type": "markdown",
   "id": "c446d85e",
   "metadata": {},
   "source": [
    "## 2) Basic checks"
   ]
  },
  {
   "cell_type": "code",
   "execution_count": null,
   "id": "507bb5c9",
   "metadata": {},
   "outputs": [],
   "source": [
    "\n",
    "df.info()\n",
    "df.describe()\n"
   ]
  },
  {
   "cell_type": "markdown",
   "id": "cb48b515",
   "metadata": {},
   "source": [
    "## 3) Split groups and fit 1-NN on Z"
   ]
  },
  {
   "cell_type": "code",
   "execution_count": null,
   "id": "e0a5c0a9",
   "metadata": {},
   "outputs": [],
   "source": [
    "\n",
    "treated = df[df[\"X\"] == 1].reset_index(drop=True)\n",
    "untreated = df[df[\"X\"] == 0].reset_index(drop=True)\n",
    "\n",
    "# Fit nearest neighbors using only confounder Z\n",
    "nn_treated = NearestNeighbors(n_neighbors=1).fit(untreated[[\"Z\"]])\n",
    "nn_untreated = NearestNeighbors(n_neighbors=1).fit(treated[[\"Z\"]])\n",
    "\n",
    "# Index of nearest match for each item\n",
    "treated_to_untreated_idx = nn_treated.kneighbors(treated[[\"Z\"]], return_distance=False).flatten()\n",
    "untreated_to_treated_idx = nn_untreated.kneighbors(untreated[[\"Z\"]], return_distance=False).flatten()\n",
    "\n",
    "# Counterfactual outcomes (Y) from the matched item in the other group\n",
    "treated_cf = untreated.iloc[treated_to_untreated_idx][\"Y\"].values\n",
    "untreated_cf = treated.iloc[untreated_to_treated_idx][\"Y\"].values\n"
   ]
  },
  {
   "cell_type": "markdown",
   "id": "b40200fb",
   "metadata": {},
   "source": [
    "## 4) Compute effects"
   ]
  },
  {
   "cell_type": "code",
   "execution_count": null,
   "id": "98dd077e",
   "metadata": {},
   "outputs": [],
   "source": [
    "\n",
    "# Effects per-item\n",
    "te_treated = treated[\"Y\"].values - treated_cf            # effect for treated items\n",
    "te_untreated = untreated_cf - untreated[\"Y\"].values      # effect for untreated items\n",
    "\n",
    "# Aggregates\n",
    "ate = np.mean(np.concatenate([te_treated, te_untreated]))\n",
    "att = np.mean(te_treated)\n",
    "atu = np.mean(te_untreated)\n",
    "optimal_te = np.max(te_untreated)  # maximum effect among untreated items\n",
    "\n",
    "results = {\n",
    "    \"ATE\": ate,\n",
    "    \"ATT\": att,\n",
    "    \"ATU\": atu,\n",
    "    \"Optimal TE (max over untreated)\": optimal_te\n",
    "}\n",
    "results\n"
   ]
  },
  {
   "cell_type": "markdown",
   "id": "b02b0690",
   "metadata": {},
   "source": [
    "## 5) Pretty print results"
   ]
  },
  {
   "cell_type": "code",
   "execution_count": null,
   "id": "6bfc4895",
   "metadata": {},
   "outputs": [],
   "source": [
    "\n",
    "for k, v in results.items():\n",
    "    print(f\"{k}: {v:0.6f}\")\n"
   ]
  },
  {
   "cell_type": "markdown",
   "id": "c3471c91",
   "metadata": {},
   "source": [
    "## 6) (Optional) Visualization"
   ]
  },
  {
   "cell_type": "code",
   "execution_count": null,
   "id": "a2f2c9ad",
   "metadata": {},
   "outputs": [],
   "source": [
    "\n",
    "import matplotlib.pyplot as plt\n",
    "\n",
    "plt.figure()\n",
    "plt.scatter(df.loc[df.X==0, \"Z\"], df.loc[df.X==0, \"Y\"], label=\"Untreated (X=0)\", alpha=0.6)\n",
    "plt.scatter(df.loc[df.X==1, \"Z\"], df.loc[df.X==1, \"Y\"], label=\"Treated (X=1)\", alpha=0.6)\n",
    "plt.xlabel(\"Z (confounder)\")\n",
    "plt.ylabel(\"Y (outcome)\")\n",
    "plt.title(\"Outcome vs Confounder by Treatment Group\")\n",
    "plt.legend()\n",
    "plt.tight_layout()\n",
    "plt.show()\n"
   ]
  }
 ],
 "metadata": {},
 "nbformat": 4,
 "nbformat_minor": 5
}
